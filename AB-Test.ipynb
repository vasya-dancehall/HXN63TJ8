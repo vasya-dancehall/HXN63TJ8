{
 "cells": [
  {
   "cell_type": "code",
   "execution_count": 1,
   "metadata": {},
   "outputs": [],
   "source": [
    "import numpy as np\n",
    "import pandas as pd\n",
    "from statsmodels.stats.weightstats import ztest\n",
    "%load_ext blackcellmagic"
   ]
  },
  {
   "cell_type": "code",
   "execution_count": 2,
   "metadata": {},
   "outputs": [],
   "source": [
    "import matplotlib.pyplot as plt\n",
    "plt.style.use('seaborn-white')\n",
    "%matplotlib inline"
   ]
  },
  {
   "cell_type": "code",
   "execution_count": 6,
   "metadata": {},
   "outputs": [
    {
     "data": {
      "text/html": [
       "<div>\n",
       "<style scoped>\n",
       "    .dataframe tbody tr th:only-of-type {\n",
       "        vertical-align: middle;\n",
       "    }\n",
       "\n",
       "    .dataframe tbody tr th {\n",
       "        vertical-align: top;\n",
       "    }\n",
       "\n",
       "    .dataframe thead th {\n",
       "        text-align: right;\n",
       "    }\n",
       "</style>\n",
       "<table border=\"1\" class=\"dataframe\">\n",
       "  <thead>\n",
       "    <tr style=\"text-align: right;\">\n",
       "      <th></th>\n",
       "      <th>id_client</th>\n",
       "      <th>date_act</th>\n",
       "      <th>id_group</th>\n",
       "      <th>flag_order</th>\n",
       "    </tr>\n",
       "  </thead>\n",
       "  <tbody>\n",
       "    <tr>\n",
       "      <th>0</th>\n",
       "      <td>101170</td>\n",
       "      <td>2021-01-06</td>\n",
       "      <td>1</td>\n",
       "      <td>1</td>\n",
       "    </tr>\n",
       "    <tr>\n",
       "      <th>1</th>\n",
       "      <td>100312</td>\n",
       "      <td>2021-03-04</td>\n",
       "      <td>1</td>\n",
       "      <td>0</td>\n",
       "    </tr>\n",
       "    <tr>\n",
       "      <th>2</th>\n",
       "      <td>101860</td>\n",
       "      <td>2021-02-14</td>\n",
       "      <td>0</td>\n",
       "      <td>1</td>\n",
       "    </tr>\n",
       "    <tr>\n",
       "      <th>3</th>\n",
       "      <td>100494</td>\n",
       "      <td>2021-02-11</td>\n",
       "      <td>1</td>\n",
       "      <td>1</td>\n",
       "    </tr>\n",
       "    <tr>\n",
       "      <th>4</th>\n",
       "      <td>102004</td>\n",
       "      <td>2021-01-17</td>\n",
       "      <td>1</td>\n",
       "      <td>1</td>\n",
       "    </tr>\n",
       "  </tbody>\n",
       "</table>\n",
       "</div>"
      ],
      "text/plain": [
       "   id_client    date_act  id_group  flag_order\n",
       "0     101170  2021-01-06         1           1\n",
       "1     100312  2021-03-04         1           0\n",
       "2     101860  2021-02-14         0           1\n",
       "3     100494  2021-02-11         1           1\n",
       "4     102004  2021-01-17         1           1"
      ]
     },
     "execution_count": 6,
     "metadata": {},
     "output_type": "execute_result"
    }
   ],
   "source": [
    "data = pd.read_csv(\"client_test.csv\")\n",
    "data.head()"
   ]
  },
  {
   "cell_type": "code",
   "execution_count": 18,
   "metadata": {},
   "outputs": [
    {
     "data": {
      "text/plain": [
       "(2024, 4)"
      ]
     },
     "execution_count": 18,
     "metadata": {},
     "output_type": "execute_result"
    }
   ],
   "source": [
    "data.shape"
   ]
  },
  {
   "cell_type": "markdown",
   "metadata": {},
   "source": [
    "Найдём средние значения `flag_order` для каждой из групп."
   ]
  },
  {
   "cell_type": "code",
   "execution_count": 4,
   "metadata": {},
   "outputs": [],
   "source": [
    "data.drop(\"id_client\", axis=1).groupby(\"id_group\").mean()"
   ]
  },
  {
   "cell_type": "code",
   "execution_count": 7,
   "metadata": {},
   "outputs": [],
   "source": [
    "groups = [data[data.id_group==0]['flag_order'], data[data.id_group==1]['flag_order']]"
   ]
  },
  {
   "cell_type": "markdown",
   "metadata": {},
   "source": [
    "Код в блоке ниже выяснит правдивость гипотезы $H_0: \\mu_0-\\mu_1=0$. Альтернативная гипотеза $H_1: \\mu_0 \\neq \\mu_1$"
   ]
  },
  {
   "cell_type": "code",
   "execution_count": 8,
   "metadata": {},
   "outputs": [],
   "source": [
    "z, pval = ztest(np.array(groups[0]), np.array(groups[1]))\n",
    "if pval < 0.05:\n",
    "    print(\"we reject null hypothesis\")\n",
    "else:\n",
    "    print(\"we accept null hypothesis\")"
   ]
  },
  {
   "cell_type": "markdown",
   "metadata": {},
   "source": [
    "Сменим теперь вид альтернативной гипотезы: $H_1: \\mu_0 - \\mu_1 > 0$"
   ]
  },
  {
   "cell_type": "code",
   "execution_count": 9,
   "metadata": {},
   "outputs": [],
   "source": [
    "z, pval = ztest(np.array(groups[0]), np.array(groups[1]), alternative=\"larger\")\n",
    "if pval < 0.05:\n",
    "    print(\"we reject null hypothesis\")\n",
    "else:\n",
    "    print(\"we accept null hypothesis\")"
   ]
  },
  {
   "cell_type": "markdown",
   "metadata": {},
   "source": [
    "И наконец $H_1: \\mu_0 - \\mu_1 < 0$"
   ]
  },
  {
   "cell_type": "code",
   "execution_count": 10,
   "metadata": {},
   "outputs": [],
   "source": [
    "z, pval = ztest(np.array(groups[0]), np.array(groups[1]), alternative=\"smaller\")\n",
    "if pval < 0.05:\n",
    "    print(\"we reject null hypothesis\")\n",
    "else:\n",
    "    print(\"we accept null hypothesis\")"
   ]
  },
  {
   "cell_type": "markdown",
   "metadata": {},
   "source": [
    "Отсюда следует, что люди, которым была дана скидка 15% охотнее пользуются этим предложением."
   ]
  },
  {
   "cell_type": "markdown",
   "metadata": {},
   "source": [
    "Чтобы отследить поведение уровня статистической значимости в зависимости от времени, будем записывать в отдельный список значения p-value рассчитанные для каждых последовательных пяти дней. Найдём для начала длину диапазона дат, который есть у нас в таблице."
   ]
  },
  {
   "cell_type": "code",
   "execution_count": 13,
   "metadata": {},
   "outputs": [
    {
     "data": {
      "text/plain": [
       "90"
      ]
     },
     "execution_count": 13,
     "metadata": {},
     "output_type": "execute_result"
    }
   ],
   "source": [
    "data[\"date_act\"] = data.date_act.apply(pd.to_datetime)\n",
    "days_num = (data.date_act.max() - data.date_act.min()).days\n",
    "days_num"
   ]
  },
  {
   "cell_type": "markdown",
   "metadata": {},
   "source": [
    "Чтобы было удобнее работать с датами, преобразуем дату в её порядковый номер как дня в году."
   ]
  },
  {
   "cell_type": "code",
   "execution_count": 14,
   "metadata": {},
   "outputs": [],
   "source": [
    "data['date_act'] = data.date_act.apply(lambda x: x.dayofyear)"
   ]
  },
  {
   "cell_type": "markdown",
   "metadata": {},
   "source": [
    "Отсортируем по возрастанию даты нашу таблицу"
   ]
  },
  {
   "cell_type": "code",
   "execution_count": 15,
   "metadata": {},
   "outputs": [],
   "source": [
    "data.sort_values('date_act', inplace=True)"
   ]
  },
  {
   "cell_type": "markdown",
   "metadata": {},
   "source": [
    "В данном цикле рассчитаем $p-value$ для каждой из подгрупп. Для этого выделим из отсортированного датафрейма тех клиентов, чьи заказы находились в интервале $[n, n+15)$ дней от начала эксперимента, где $n=1+15k$,   $k \\in [0, 5]$,   $k \\in \\mathbb{N}_0$ (переменная `subset`)\\\n",
    "В списке `subgroups` будем хранить разделённые по `id_group` части `subset`\\\n",
    "Такое разбиение гарантирует нам что в каждой из подгрупп окажется не менее 30 строк\n"
   ]
  },
  {
   "cell_type": "code",
   "execution_count": 17,
   "metadata": {},
   "outputs": [
    {
     "data": {
      "text/plain": [
       "[0.024606727226869726,\n",
       " 0.877321480106228,\n",
       " 0.3053807240979657,\n",
       " 0.5279187937155423,\n",
       " 0.01834744004095173,\n",
       " 0.11082664141766364]"
      ]
     },
     "execution_count": 17,
     "metadata": {},
     "output_type": "execute_result"
    }
   ],
   "source": [
    "pvalues = []\n",
    "for i in range(1, 91, 15):\n",
    "    subset = data[(i <= data.date_act) & (data.date_act < i + 15)]\n",
    "    subgroups = [\n",
    "        subset[subset.id_group == 0][\"flag_order\"],\n",
    "        subset[subset.id_group == 1][\"flag_order\"],\n",
    "    ]\n",
    "    z, pval = ztest(np.array(subgroups[0]), np.array(subgroups[1]))\n",
    "    pvalues.append(pval)\n",
    "pvalues"
   ]
  },
  {
   "cell_type": "code",
   "execution_count": 19,
   "metadata": {},
   "outputs": [
    {
     "data": {
      "image/png": "[encoded data removed]",
      "text/plain": [
       "<Figure size 576x576 with 1 Axes>"
      ]
     },
     "metadata": {
      "needs_background": "light"
     },
     "output_type": "display_data"
    }
   ],
   "source": [
    "num_of_days = list(range(1, 91, 15))\n",
    "fig = plt.figure(figsize=(8, 8))\n",
    "plt.plot(num_of_days, pvalues, \"r-+\")\n",
    "plt.ylabel(\"p-value\")\n",
    "plt.xlabel(\"число дней, прошедшее с начала акции\")\n",
    "plt.show()"
   ]
  },
  {
   "cell_type": "markdown",
   "metadata": {},
   "source": [
    "Вопросы к коллегам:\n",
    "1. Почему для проведения эксперимента было выбрано именно это время года?\n",
    "2. В каких городах проходил эксперимент?\n",
    "3. Каким критериям должен был отвечать клиент, чтобы попасть в ту или иную выборку?\n"
   ]
  },
  {
   "cell_type": "markdown",
   "metadata": {},
   "source": [
    "Для того, чтобы произвести более глубокую сегментацию необходимо добавить следующие признаки:\n",
    "1. Время показа акции и время заказа с точностью до часа (очевидно, что в утреннее время люди охотнее бы воспользовались скидкой на такси)\n",
    "2. Город клиента\n",
    "3. Класс такси"
   ]
  }
 ],
 "metadata": {
  "interpreter": {
   "hash": "1be9856963ee0560708bb2052661aa27357a5b7ae3c19a3b57a929c8d7be175e"
  },
  "kernelspec": {
   "display_name": "Python 3.8.11 64-bit ('base': conda)",
   "name": "python3"
  },
  "language_info": {
   "codemirror_mode": {
    "name": "ipython",
    "version": 3
   },
   "file_extension": ".py",
   "mimetype": "text/x-python",
   "name": "python",
   "nbconvert_exporter": "python",
   "pygments_lexer": "ipython3",
   "version": "3.8.11"
  },
  "orig_nbformat": 4
 },
 "nbformat": 4,
 "nbformat_minor": 2
}
